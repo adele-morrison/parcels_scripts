{
 "cells": [
  {
   "cell_type": "markdown",
   "metadata": {},
   "source": [
    "# Parcels testing for ACCESS-OM2-01 output"
   ]
  },
  {
   "cell_type": "markdown",
   "metadata": {},
   "source": [
    "Importing the relevant modules. The key ones are all in the `parcels` package."
   ]
  },
  {
   "cell_type": "code",
   "execution_count": 10,
   "metadata": {},
   "outputs": [],
   "source": [
    "%matplotlib inline\n",
    "from parcels import FieldSet, ParticleSet, Variable, JITParticle, AdvectionRK4_3D, plotTrajectoriesFile, ScipyParticle\n",
    "import numpy as np\n",
    "#import math\n",
    "from glob import glob\n",
    "from datetime import timedelta\n",
    "#from operator import attrgetter\n",
    "import time\n",
    "#import dask.array as da\n",
    "#import parcels\n",
    "#print('parcels', parcels.__version__)"
   ]
  },
  {
   "cell_type": "markdown",
   "metadata": {},
   "source": [
    "Reading in data from arbritrary NetCDF files¶"
   ]
  },
  {
   "cell_type": "markdown",
   "metadata": {},
   "source": [
    "First, define the names of the files containing the 3D velocities. You can use wildcards (`*`) and the filenames for U, V and W can be the same."
   ]
  },
  {
   "cell_type": "markdown",
   "metadata": {},
   "source": [
    "We also need to give Parcels lat and lon data. It seems that these need to be 2D and not have any masks."
   ]
  },
  {
   "cell_type": "markdown",
   "metadata": {},
   "source": [
    "I'm not entirely sure that this is the right lat/lon to use (i.e. on the u grid), because the documentation is very vague. However for c-grid, Parcels definitely wants the dimensions of the t-grid corners, so maybe it's the same for b-grid? "
   ]
  },
  {
   "cell_type": "code",
   "execution_count": 11,
   "metadata": {},
   "outputs": [],
   "source": [
    "data_path = '/g/data/hh5/tmp/cosima/access-om2-01/01deg_jra55v13_ryf9091/'\n",
    "ufiles = sorted(glob(data_path+'output196/ocean/ocean_daily_3d_u_*.nc'))\n",
    "vfiles = sorted(glob(data_path+'output196/ocean/ocean_daily_3d_v_*.nc'))\n",
    "wfiles = sorted(glob(data_path+'output196/ocean/ocean_daily_3d_wt_*.nc'))\n",
    "mesh_mask = '/g/data/v45/akm157/model_data/for_parcels/access-om2-01_Southern_Ocean_coordinates.nc'\n",
    "\n",
    "filenames = {'U': {'lon': mesh_mask, 'lat': mesh_mask, 'depth': wfiles[0], 'data': ufiles},\n",
    "             'V': {'lon': mesh_mask, 'lat': mesh_mask, 'depth': wfiles[0], 'data': vfiles},\n",
    "             'W': {'lon': mesh_mask, 'lat': mesh_mask, 'depth': wfiles[0], 'data': wfiles}}"
   ]
  },
  {
   "cell_type": "markdown",
   "metadata": {},
   "source": [
    "Then, define a dictionary of the variables (`U`, `V` and `W`) and dimensions (`lon`, `lat`,`depth` and `time`). I'm also guessing here that Parcels want depth on the `W` grid, because this is what it specifies for c-grid interpolation, but again there are no details on what should be supplied for b-grid interpolation..."
   ]
  },
  {
   "cell_type": "code",
   "execution_count": 12,
   "metadata": {},
   "outputs": [],
   "source": [
    "variables = {'U': 'u',\n",
    "             'V': 'v',\n",
    "             'W': 'wt'}\n",
    "dimensions = {'U': {'lon': 'geolon_c', 'lat': 'geolat_c', 'depth': 'sw_ocean', 'time': 'time'},\n",
    "              'V': {'lon': 'geolon_c', 'lat': 'geolat_c', 'depth': 'sw_ocean', 'time': 'time'},\n",
    "              'W': {'lon': 'geolon_c', 'lat': 'geolat_c', 'depth': 'sw_ocean', 'time': 'time'}}"
   ]
  },
  {
   "cell_type": "markdown",
   "metadata": {},
   "source": [
    "Finally, read in the fieldset using the `FieldSet.from_netcdf` function with the above-defined `filenames`, `variables` and `dimensions`. "
   ]
  },
  {
   "cell_type": "markdown",
   "metadata": {},
   "source": [
    "Ideally we should also set the field_chunksize here, but I'm having memory errors whenever I try to do this."
   ]
  },
  {
   "cell_type": "code",
   "execution_count": 13,
   "metadata": {},
   "outputs": [],
   "source": [
    "fieldset = FieldSet.from_b_grid_dataset(filenames, variables, dimensions , field_chunksize=(7,300,400))\n",
    "\n",
    "# netcdf chunksize for these files is:\n",
    "# field_chunksize=(7,300,400)"
   ]
  },
  {
   "cell_type": "markdown",
   "metadata": {},
   "source": [
    "We also need to add a halo for periodic zonal boundaries. This is because, if the particle is close to the edge of the fieldset (but still in it), AdvectionRK4 will need to interpolate velocities that may lay outside the fieldset domain. With the halo, we make sure AdvectionRK4 can access these values."
   ]
  },
  {
   "cell_type": "code",
   "execution_count": 14,
   "metadata": {},
   "outputs": [],
   "source": [
    "fieldset.add_constant('halo_west', fieldset.U.grid.lon[0])\n",
    "fieldset.add_constant('halo_east', fieldset.U.grid.lon[-1])\n",
    "\n",
    "fieldset.add_periodic_halo(zonal=True)"
   ]
  },
  {
   "cell_type": "markdown",
   "metadata": {},
   "source": [
    "The other item we need is a custom Kernel that can move the particle from one side of the domain to the other."
   ]
  },
  {
   "cell_type": "code",
   "execution_count": 15,
   "metadata": {},
   "outputs": [],
   "source": [
    "def periodicBC(particle, fieldset, time):\n",
    "    if particle.lon < fieldset.halo_west:\n",
    "        particle.lon += fieldset.halo_east - fieldset.halo_west\n",
    "    elif particle.lon > fieldset.halo_east:\n",
    "        particle.lon -= fieldset.halo_east - fieldset.halo_west"
   ]
  },
  {
   "cell_type": "markdown",
   "metadata": {},
   "source": [
    "Now define a `ParticleSet`, in this case particles starting on a line at the end of the Drygalski Trough in the Ross Sea, using the `ParticleSet.from_line` constructor method."
   ]
  },
  {
   "cell_type": "code",
   "execution_count": 16,
   "metadata": {},
   "outputs": [],
   "source": [
    "pset = ParticleSet.from_line(fieldset=fieldset, \n",
    "                             pclass=JITParticle,\n",
    "                             size=50,\n",
    "                             start=(-187.3, -72.15),\n",
    "                             finish=(-186.3, -72.4),\n",
    "                             depth=500)"
   ]
  },
  {
   "cell_type": "markdown",
   "metadata": {},
   "source": [
    "Print out the starting locations of the particles:"
   ]
  },
  {
   "cell_type": "code",
   "execution_count": 17,
   "metadata": {},
   "outputs": [],
   "source": [
    "#print(pset)"
   ]
  },
  {
   "cell_type": "markdown",
   "metadata": {},
   "source": [
    "And finally execute the `ParticleSet` for 2 days using 4th order Runge-Kutta in 3D. I'm also having memory issues here when I run for too long."
   ]
  },
  {
   "cell_type": "code",
   "execution_count": null,
   "metadata": {},
   "outputs": [
    {
     "name": "stderr",
     "output_type": "stream",
     "text": [
      "INFO: Compiled JITParticleAdvectionRK4_3DperiodicBC ==> /local/v45/akm157/tmp/parcels-5847/8f9352fe4c70f4a2f06d8c44a070e7e3_0.so\n"
     ]
    }
   ],
   "source": [
    "output_file = pset.ParticleFile(name=\"AntarcticParticles.nc\", \n",
    "                                outputdt=timedelta(days=1)) # the file name and the time step of the outputs\n",
    "tic = time.time()\n",
    "pset.execute(AdvectionRK4_3D + pset.Kernel(periodicBC),   # the kernel (which defines how particles move)\n",
    "             runtime=timedelta(days=4),    # the total length of the run\n",
    "             dt=timedelta(hours=2),      # the timestep of the kernel\n",
    "             output_file=output_file)\n",
    "time_taken = time.time()-tic\n",
    "print(time_taken)"
   ]
  },
  {
   "cell_type": "markdown",
   "metadata": {},
   "source": [
    "Print out particle locations after advecting to check it worked:"
   ]
  },
  {
   "cell_type": "code",
   "execution_count": null,
   "metadata": {},
   "outputs": [],
   "source": [
    "#print(pset)"
   ]
  },
  {
   "cell_type": "markdown",
   "metadata": {},
   "source": [
    "Plot trajectories using Parcels plotting tool:"
   ]
  },
  {
   "cell_type": "code",
   "execution_count": null,
   "metadata": {},
   "outputs": [],
   "source": [
    "output_file.export()  # export the trajectory data to a netcdf file\n",
    "plotTrajectoriesFile('AntarcticParticles.nc');"
   ]
  },
  {
   "cell_type": "markdown",
   "metadata": {},
   "source": [
    "Plot trajectories manually:"
   ]
  },
  {
   "cell_type": "code",
   "execution_count": null,
   "metadata": {},
   "outputs": [],
   "source": [
    "import netCDF4\n",
    "from mpl_toolkits.mplot3d import Axes3D\n",
    "import matplotlib.pyplot as plt\n",
    "\n",
    "#output_file.export()  # export the trajectory data to a netcdf file\n",
    "\n",
    "# load data from the output file:\n",
    "ncfile = netCDF4.Dataset(\"AntarcticParticles.nc\")\n",
    "x = ncfile.variables[\"lon\"][:].squeeze()\n",
    "y = ncfile.variables[\"lat\"][:].squeeze()\n",
    "z = ncfile.variables[\"z\"][:].squeeze()\n",
    "\n",
    "fig = plt.figure(figsize=(13,10))\n",
    "for particle in range(x.shape[0]):\n",
    "    plt.plot(x[particle,:], y[particle,:],'k',linewidth=0.5,zorder=2)\n",
    "cb = plt.scatter(x, y, c=z,s=40, marker=\"o\",zorder=1,cmap='viridis_r')\n",
    "plt.ylabel(\"Latitude\")\n",
    "cbar = plt.colorbar()\n",
    "cbar.set_label('Depth (m)')\n",
    "\n",
    "# starting locations:\n",
    "plt.scatter(x[:,0], y[:,0], c='r',s=40, marker=\"o\",zorder=1)\n",
    "plt.xlabel(\"Longitude\")\n",
    "\n",
    "# load topography:\n",
    "grid_file = '/g/data/hh5/tmp/cosima/access-om2-01/01deg_jra55v13_ryf9091/'+\\\n",
    "    'output196/ocean/ocean_grid.nc'\n",
    "ncfile = netCDF4.Dataset(grid_file)\n",
    "topo = ncfile.variables[\"ht\"][:900,:]\n",
    "xt_ocean = ncfile.variables[\"xt_ocean\"][...]\n",
    "yt_ocean = ncfile.variables[\"yt_ocean\"][:900]\n",
    "plt.contour(xt_ocean,yt_ocean,topo,[500,1000,2000,3000],colors='gray',linewidths=0.5)\n",
    "\n",
    "plt.ylim((y.min()-.1,y.max()+.1))\n",
    "plt.xlim((x.min()-.1,x.max()+.1))\n",
    "plt.show()"
   ]
  },
  {
   "cell_type": "code",
   "execution_count": null,
   "metadata": {},
   "outputs": [],
   "source": []
  }
 ],
 "metadata": {
  "kernelspec": {
   "display_name": "Python 3",
   "language": "python",
   "name": "python3"
  },
  "language_info": {
   "codemirror_mode": {
    "name": "ipython",
    "version": 3
   },
   "file_extension": ".py",
   "mimetype": "text/x-python",
   "name": "python",
   "nbconvert_exporter": "python",
   "pygments_lexer": "ipython3",
   "version": "3.6.7"
  }
 },
 "nbformat": 4,
 "nbformat_minor": 1
}
